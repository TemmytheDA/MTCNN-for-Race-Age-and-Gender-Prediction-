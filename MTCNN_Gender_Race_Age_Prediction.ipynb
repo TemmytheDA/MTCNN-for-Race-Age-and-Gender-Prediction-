{
  "cells": [
    {
      "cell_type": "markdown",
      "metadata": {
        "id": "view-in-github",
        "colab_type": "text"
      },
      "source": [
        "<a href=\"https://colab.research.google.com/github/TemmytheDA/MTCNN-for-Race-Age-and-Gender-Prediction-/blob/main/MTCNN_Gender_Race_Age_Prediction.ipynb\" target=\"_parent\"><img src=\"https://colab.research.google.com/assets/colab-badge.svg\" alt=\"Open In Colab\"/></a>"
      ]
    },
    {
      "cell_type": "code",
      "execution_count": null,
      "id": "8980bb71-ca0f-4b16-9cc3-c3bf3fadfc51",
      "metadata": {
        "jupyter": {
          "outputs_hidden": false,
          "source_hidden": false
        },
        "noteable": {
          "cell_type": "code"
        },
        "id": "8980bb71-ca0f-4b16-9cc3-c3bf3fadfc51"
      },
      "outputs": [],
      "source": []
    },
    {
      "cell_type": "markdown",
      "id": "afa9c80a-dbc3-49b1-8924-fb85df864479",
      "metadata": {
        "noteable": {
          "cell_type": "markdown"
        },
        "id": "afa9c80a-dbc3-49b1-8924-fb85df864479"
      },
      "source": [
        "## Setup and Dependencies"
      ]
    },
    {
      "cell_type": "code",
      "execution_count": 1,
      "id": "270dfd8d-db0c-4e36-952b-2339f3724662",
      "metadata": {
        "ExecuteTime": {
          "end_time": "2023-09-11T11:07:48.457426+00:00",
          "start_time": "2023-09-11T11:07:45.732042+00:00"
        },
        "noteable": {
          "cell_type": "code",
          "output_collection_id": "224ea7b4-baf9-4349-9482-c8bd9af140fa"
        },
        "id": "270dfd8d-db0c-4e36-952b-2339f3724662"
      },
      "outputs": [],
      "source": [
        "import numpy as np\n",
        "import pandas as pd\n",
        "import tensorflow as tf\n",
        "from tensorflow import keras\n",
        "from tensorflow.keras import layers\n",
        "import matplotlib.pyplot as plt\n",
        "import os\n",
        "import cv2\n",
        "from sklearn.model_selection import train_test_split\n",
        "!pip install -q opencv-python tensorflow"
      ]
    },
    {
      "cell_type": "markdown",
      "id": "a2fb5988-e506-47a8-8a19-6504b056e999",
      "metadata": {
        "noteable": {
          "cell_type": "markdown"
        },
        "id": "a2fb5988-e506-47a8-8a19-6504b056e999"
      },
      "source": [
        "## Data Acquisition and Preprocessing\n",
        "\n",
        "\n",
        "Let's start by loading the UTK dataset and exploring its structure."
      ]
    },
    {
      "cell_type": "code",
      "execution_count": null,
      "id": "52edbf94-de1b-48d0-9241-222e59ac5684",
      "metadata": {
        "ExecuteTime": {
          "end_time": "2023-09-11T11:09:16.989052+00:00",
          "start_time": "2023-09-11T11:09:16.826238+00:00"
        },
        "noteable": {
          "cell_type": "code",
          "output_collection_id": "b282fe73-d29e-4f9d-9c78-ff223265afe6"
        },
        "id": "52edbf94-de1b-48d0-9241-222e59ac5684"
      },
      "outputs": [],
      "source": [
        "# Define the path to the UTKFace dataset\n",
        "dataset_path = 'UTKFace_dataset/UTKFace/'\n",
        "\n",
        "# List the files in the dataset directory\n",
        "file_list = os.listdir(dataset_path)\n",
        "\n",
        "# Display the first few filenames\n",
        "file_list[:5]"
      ]
    },
    {
      "cell_type": "markdown",
      "id": "eaf7f8cb-4ed9-4a6c-8871-ef805156a8b6",
      "metadata": {
        "noteable": {
          "cell_type": "markdown"
        },
        "id": "eaf7f8cb-4ed9-4a6c-8871-ef805156a8b6"
      },
      "source": [
        "### Extracting Labels and Loading Images\n",
        "\n",
        "\n",
        "We'll extract age, gender, and race labels from the filenames and load the corresponding images into memory. This will help us in preparing the data for training the model."
      ]
    },
    {
      "cell_type": "code",
      "execution_count": null,
      "id": "ad69f67c-0607-4fe5-884b-78e598256a35",
      "metadata": {
        "ExecuteTime": {
          "end_time": "2023-09-11T11:11:45.542396+00:00",
          "start_time": "2023-09-11T11:11:44.929133+00:00"
        },
        "noteable": {
          "cell_type": "code",
          "output_collection_id": "903b0523-6781-4583-8a1c-f8c327a1095f"
        },
        "id": "ad69f67c-0607-4fe5-884b-78e598256a35"
      },
      "outputs": [],
      "source": [
        "# Define a function to extract labels and load images\n",
        "def load_data(file_list, dataset_path, img_size=(64, 64)):\n",
        "    images = []\n",
        "    ages = []\n",
        "    genders = []\n",
        "    races = []\n",
        "\n",
        "    for file in file_list:\n",
        "        if file.endswith('.jpg'):\n",
        "            # Extract labels from filename\n",
        "            age, gender, race, _ = file.split('_')[:4]\n",
        "            ages.append(int(age))\n",
        "            genders.append(int(gender))\n",
        "            races.append(int(race))\n",
        "\n",
        "            # Load and preprocess image\n",
        "            img_path = os.path.join(dataset_path, file)\n",
        "            img = cv2.imread(img_path)\n",
        "            img = cv2.cvtColor(img, cv2.COLOR_BGR2RGB)\n",
        "            img = cv2.resize(img, img_size)\n",
        "            images.append(img)\n",
        "\n",
        "    return np.array(images), np.array(ages), np.array(genders), np.array(races)\n",
        "\n",
        "\n",
        "# Load a subset of the data for demonstration purposes\n",
        "images, ages, genders, races = load_data(file_list[:1000], dataset_path)\n",
        "\n",
        "# Display the shape of the loaded data\n",
        "images.shape, ages.shape, genders.shape, races.shape"
      ]
    },
    {
      "cell_type": "markdown",
      "id": "8cf0d2c5-dfb5-45cb-9c45-08151412727a",
      "metadata": {
        "noteable": {
          "cell_type": "markdown"
        },
        "id": "8cf0d2c5-dfb5-45cb-9c45-08151412727a"
      },
      "source": [
        "### Data Visualization\n",
        "\n",
        "\n",
        "Let's visualize some of the images from the dataset along with their corresponding age, gender, and race labels."
      ]
    },
    {
      "cell_type": "code",
      "execution_count": null,
      "id": "1a452f07-20d6-4bf8-b21e-abf578dc3bd2",
      "metadata": {
        "ExecuteTime": {
          "end_time": "2023-09-11T11:13:47.617630+00:00",
          "start_time": "2023-09-11T11:13:46.628790+00:00"
        },
        "noteable": {
          "cell_type": "code",
          "output_collection_id": "c92a1aa3-d884-4488-9d2a-9cab24e5cc83"
        },
        "id": "1a452f07-20d6-4bf8-b21e-abf578dc3bd2"
      },
      "outputs": [],
      "source": [
        "# Define a function to visualize a subset of the data\n",
        "def visualize_data(images, ages, genders, races, num_samples=5):\n",
        "    race_labels = ['White', 'Black', 'Asian', 'Indian', 'Others']\n",
        "    gender_labels = ['Male', 'Female']\n",
        "\n",
        "    fig, axes = plt.subplots(1, num_samples, figsize=(15, 5))\n",
        "    for i, ax in enumerate(axes):\n",
        "        ax.imshow(images[i])\n",
        "        ax.set_title(f'Age: {ages[i]}\\nGender: {gender_labels[genders[i]]}\\nRace: {race_labels[races[i]]}')\n",
        "        ax.axis('off')\n",
        "    plt.tight_layout()\n",
        "    plt.show()\n",
        "\n",
        "# Visualize a subset of the data\n",
        "visualize_data(images, ages, genders, races)"
      ]
    },
    {
      "cell_type": "markdown",
      "id": "c0009a20-5907-4171-8428-6eceacc2a4c0",
      "metadata": {
        "noteable": {
          "cell_type": "markdown"
        },
        "id": "c0009a20-5907-4171-8428-6eceacc2a4c0"
      },
      "source": [
        "### Visualizing Random Age Samples\n",
        "\n",
        "\n",
        "To ensure diversity in our visualization, let's randomly select images of different ages from the dataset and visualize them along with their corresponding labels."
      ]
    },
    {
      "cell_type": "code",
      "execution_count": null,
      "id": "33525cf4-3d10-483e-b168-8df8f75f78c1",
      "metadata": {
        "ExecuteTime": {
          "end_time": "2023-09-11T11:16:17.082376+00:00",
          "start_time": "2023-09-11T11:16:16.475531+00:00"
        },
        "noteable": {
          "cell_type": "code",
          "output_collection_id": "b4450c23-ea5c-4b04-8527-96f491487fc1"
        },
        "id": "33525cf4-3d10-483e-b168-8df8f75f78c1"
      },
      "outputs": [],
      "source": [
        "# Randomly select images of different ages\n",
        "np.random.seed(42)  # for reproducibility\n",
        "random_indices = np.random.choice(len(images), size=5, replace=False)\n",
        "\n",
        "# Extract the randomly selected images and their labels\n",
        "random_images = images[random_indices]\n",
        "random_ages = ages[random_indices]\n",
        "random_genders = genders[random_indices]\n",
        "random_races = races[random_indices]\n",
        "\n",
        "# Visualize the randomly selected data\n",
        "visualize_data(random_images, random_ages, random_genders, random_races)"
      ]
    },
    {
      "cell_type": "markdown",
      "id": "85be3fa5-0279-49c2-adbc-d3e4893f6f17",
      "metadata": {
        "noteable": {
          "cell_type": "markdown"
        },
        "id": "85be3fa5-0279-49c2-adbc-d3e4893f6f17"
      },
      "source": [
        "### Splitting the Dataset\n",
        "\n",
        "\n",
        "To train and evaluate our model, we'll split the dataset into three parts:\n",
        "\n",
        "1. **Training set**: Used to train the model.\n",
        "\n",
        "2. **Validation set**: Used to tune hyperparameters and prevent overfitting.\n",
        "\n",
        "3. **Test set**: Used to evaluate the model's performance on unseen data."
      ]
    },
    {
      "cell_type": "code",
      "execution_count": null,
      "id": "1c64d587-015c-4e5d-b4ad-af9d19c4fd92",
      "metadata": {
        "ExecuteTime": {
          "end_time": "2023-09-11T11:18:18.404764+00:00",
          "start_time": "2023-09-11T11:18:18.229378+00:00"
        },
        "noteable": {
          "cell_type": "code",
          "output_collection_id": "96866c82-58a5-4c36-bb93-a68b37fe3b81"
        },
        "id": "1c64d587-015c-4e5d-b4ad-af9d19c4fd92"
      },
      "outputs": [],
      "source": [
        "# Split the data into training, validation, and test sets\n",
        "X_train, X_temp, y_age_train, y_age_temp, y_gender_train, y_gender_temp, y_race_train, y_race_temp = train_test_split(\n",
        "    images, ages, genders, races, test_size=0.3, random_state=42, stratify=genders)\n",
        "\n",
        "X_val, X_test, y_age_val, y_age_test, y_gender_val, y_gender_test, y_race_val, y_race_test = train_test_split(\n",
        "    X_temp, y_age_temp, y_gender_temp, y_race_temp, test_size=0.5, random_state=42, stratify=y_gender_temp)\n",
        "\n",
        "# Display the shape of the training, validation, and test sets\n",
        "X_train.shape, X_val.shape, X_test.shape"
      ]
    },
    {
      "cell_type": "markdown",
      "id": "fb8c97e2-7f38-4a3d-8b8e-9862a96e6bcc",
      "metadata": {
        "noteable": {
          "cell_type": "markdown"
        },
        "id": "fb8c97e2-7f38-4a3d-8b8e-9862a96e6bcc"
      },
      "source": [
        "### Data Normalization\n",
        "\n",
        "\n",
        "To ensure that our model trains efficiently, we'll normalize the pixel values of the images. Normalizing the data generally helps in speeding up the training process and can lead to faster convergence."
      ]
    },
    {
      "cell_type": "code",
      "execution_count": null,
      "id": "b8eb39e4-5a58-4a5e-a127-a65dfc7e9783",
      "metadata": {
        "ExecuteTime": {
          "end_time": "2023-09-11T11:19:47.888499+00:00",
          "start_time": "2023-09-11T11:19:47.707287+00:00"
        },
        "noteable": {
          "cell_type": "code",
          "output_collection_id": "11ed1cec-9457-4ab4-8638-124612c2f4d5"
        },
        "id": "b8eb39e4-5a58-4a5e-a127-a65dfc7e9783"
      },
      "outputs": [],
      "source": [
        "# Normalize the images to the range [0, 1]\n",
        "X_train_normalized = X_train.astype('float32') / 255.0\n",
        "X_val_normalized = X_val.astype('float32') / 255.0\n",
        "X_test_normalized = X_test.astype('float32') / 255.0\n",
        "\n",
        "# Display the min and max values of the normalized training data\n",
        "X_train_normalized.min(), X_train_normalized.max()"
      ]
    },
    {
      "cell_type": "markdown",
      "id": "3223e708-9e51-4852-86f6-1f61f36c8fa7",
      "metadata": {
        "noteable": {
          "cell_type": "markdown"
        },
        "id": "3223e708-9e51-4852-86f6-1f61f36c8fa7"
      },
      "source": [
        "# Building the Multi-Task Convolutional Neural Network (MTCNN) Model\n",
        "\n",
        "\n",
        "We'll design a model that can simultaneously predict gender, race, and age from facial images."
      ]
    },
    {
      "cell_type": "markdown",
      "id": "33bd38cf-c16e-4ae6-9f61-3b8f1c8438b2",
      "metadata": {
        "noteable": {
          "cell_type": "markdown"
        },
        "id": "33bd38cf-c16e-4ae6-9f61-3b8f1c8438b2"
      },
      "source": [
        "### Model Architecture\n",
        "\n",
        "\n",
        "The architecture will consist of shared convolutional layers followed by separate branches for each task (gender, race, and age prediction)."
      ]
    },
    {
      "cell_type": "code",
      "execution_count": null,
      "id": "08f31ceb-a60a-46ee-9982-4ddaaae0fefd",
      "metadata": {
        "ExecuteTime": {
          "end_time": "2023-09-11T11:22:46.641342+00:00",
          "start_time": "2023-09-11T11:22:46.332320+00:00"
        },
        "noteable": {
          "cell_type": "code",
          "output_collection_id": "4f0ec68d-fbb4-4d00-a55a-da7f046b06a3"
        },
        "id": "08f31ceb-a60a-46ee-9982-4ddaaae0fefd"
      },
      "outputs": [],
      "source": [
        "import tensorflow as tf\n",
        "from tensorflow.keras.layers import Input, Conv2D, MaxPooling2D, Flatten, Dense, Dropout\n",
        "from tensorflow.keras.models import Model\n",
        "\n",
        "# Define the shared convolutional layers\n",
        "input_layer = Input(shape=(64, 64, 3))\n",
        "x = Conv2D(32, (3, 3), activation='relu')(input_layer)\n",
        "x = MaxPooling2D((2, 2))(x)\n",
        "x = Conv2D(64, (3, 3), activation='relu')(x)\n",
        "x = MaxPooling2D((2, 2))(x)\n",
        "x = Conv2D(128, (3, 3), activation='relu')(x)\n",
        "x = MaxPooling2D((2, 2))(x)\n",
        "x = Flatten()(x)\n",
        "x = Dense(128, activation='relu')(x)\n",
        "x = Dropout(0.5)(x)\n",
        "\n",
        "# Gender prediction branch\n",
        "gender_output = Dense(1, activation='sigmoid', name='gender_output')(x)\n",
        "\n",
        "# Race prediction branch\n",
        "race_output = Dense(5, activation='softmax', name='race_output')(x)\n",
        "\n",
        "# Age prediction branch\n",
        "age_output = Dense(1, activation='relu', name='age_output')(x)\n",
        "\n",
        "# Define the model\n",
        "model = Model(inputs=input_layer, outputs=[gender_output, race_output, age_output])\n",
        "\n",
        "# Display the model summary\n",
        "model.summary()"
      ]
    },
    {
      "cell_type": "markdown",
      "id": "e33b17e3-6cb0-41d9-aef9-cd2214735145",
      "metadata": {
        "noteable": {
          "cell_type": "markdown"
        },
        "id": "e33b17e3-6cb0-41d9-aef9-cd2214735145"
      },
      "source": [
        "### Model Compilation\n",
        "\n",
        "\n",
        "We'll compile the model by specifying the following for each task:\n",
        "\n",
        "1. **Loss Function**: Determines how the model's predictions are compared to the true labels.\n",
        "\n",
        "2. **Optimizer**: Dictates how the model updates its weights based on the loss.\n",
        "\n",
        "3. **Metrics**: Used to monitor the training and validation process."
      ]
    },
    {
      "cell_type": "code",
      "execution_count": null,
      "id": "30fc6f03-c8a2-453b-8ce0-3f1889ecfd81",
      "metadata": {
        "ExecuteTime": {
          "end_time": "2023-09-11T11:27:08.072078+00:00",
          "start_time": "2023-09-11T11:27:07.903222+00:00"
        },
        "noteable": {
          "cell_type": "code",
          "output_collection_id": "223d71b6-ef79-402a-8871-ce8ef489f67f"
        },
        "id": "30fc6f03-c8a2-453b-8ce0-3f1889ecfd81"
      },
      "outputs": [],
      "source": [
        "# Compile the model\n",
        "model.compile(optimizer='adam',\n",
        "              loss={'gender_output': 'binary_crossentropy',\n",
        "                    'race_output': 'sparse_categorical_crossentropy',\n",
        "                    'age_output': 'mean_squared_error'},\n",
        "              metrics={'gender_output': 'accuracy',\n",
        "                       'race_output': 'accuracy',\n",
        "                       'age_output': 'mae'})"
      ]
    },
    {
      "cell_type": "markdown",
      "id": "2c695589-15cb-4f19-9140-346e36f82778",
      "metadata": {
        "noteable": {
          "cell_type": "markdown"
        },
        "id": "2c695589-15cb-4f19-9140-346e36f82778"
      },
      "source": [
        "### Model Training\n",
        "\n",
        "\n",
        "We'll train the model using the training data. During training, the model's performance will also be evaluated on the validation data to monitor for overfitting and to determine the best model weights."
      ]
    },
    {
      "cell_type": "code",
      "execution_count": null,
      "id": "5c7d8f6f-a93f-47ee-b105-5778febab1af",
      "metadata": {
        "ExecuteTime": {
          "end_time": "2023-09-11T11:30:39.475123+00:00",
          "start_time": "2023-09-11T11:29:15.743022+00:00"
        },
        "noteable": {
          "cell_type": "code",
          "output_collection_id": "83b0df32-ff50-423a-a31d-d4ac0e74d7c5"
        },
        "id": "5c7d8f6f-a93f-47ee-b105-5778febab1af"
      },
      "outputs": [],
      "source": [
        "# Train the model\n",
        "history = model.fit(X_train_normalized, {'gender_output': y_gender_train, 'race_output': y_race_train, 'age_output': y_age_train},\n",
        "                    validation_data=(X_val_normalized, {'gender_output': y_gender_val, 'race_output': y_race_val, 'age_output': y_age_val}),\n",
        "                    epochs=10, batch_size=32)"
      ]
    },
    {
      "cell_type": "markdown",
      "id": "d15cf641-04b1-474a-9387-c5ab92d8593f",
      "metadata": {
        "noteable": {
          "cell_type": "markdown"
        },
        "id": "d15cf641-04b1-474a-9387-c5ab92d8593f"
      },
      "source": [
        "### Visualizing Training History\n",
        "\n",
        "\n",
        "We'll plot the training and validation loss and accuracy for each task to assess the model's performance over epochs."
      ]
    },
    {
      "cell_type": "code",
      "execution_count": null,
      "id": "f2ac2273-8b8d-4f77-a97d-12521ed41ac8",
      "metadata": {
        "ExecuteTime": {
          "end_time": "2023-09-11T11:42:08.762229+00:00",
          "start_time": "2023-09-11T11:42:08.127097+00:00"
        },
        "noteable": {
          "cell_type": "code",
          "output_collection_id": "0d3e2456-0832-4896-a249-a9db2a1ed608"
        },
        "id": "f2ac2273-8b8d-4f77-a97d-12521ed41ac8"
      },
      "outputs": [],
      "source": [
        "import matplotlib.pyplot as plt\n",
        "\n",
        "# Function to plot training history\n",
        "def plot_training_history(history, title):\n",
        "    fig, axes = plt.subplots(1, 3, figsize=(20, 5))\n",
        "\n",
        "    # Plot training & validation accuracy values for gender\n",
        "    axes[0].plot(history.history['gender_output_accuracy'])\n",
        "    axes[0].plot(history.history['val_gender_output_accuracy'])\n",
        "    axes[0].set_title('Gender Model Accuracy')\n",
        "    axes[0].set_ylabel('Accuracy')\n",
        "    axes[0].set_xlabel('Epoch')\n",
        "    axes[0].legend(['Train', 'Validation'], loc='upper left')\n",
        "\n",
        "    # Plot training & validation accuracy values for race\n",
        "    axes[1].plot(history.history['race_output_accuracy'])\n",
        "    axes[1].plot(history.history['val_race_output_accuracy'])\n",
        "    axes[1].set_title('Race Model Accuracy')\n",
        "    axes[1].set_ylabel('Accuracy')\n",
        "    axes[1].set_xlabel('Epoch')\n",
        "    axes[1].legend(['Train', 'Validation'], loc='upper left')\n",
        "\n",
        "    # Plot training & validation loss values for age\n",
        "    axes[2].plot(history.history['age_output_mae'])\n",
        "    axes[2].plot(history.history['val_age_output_mae'])\n",
        "    axes[2].set_title('Age Model MAE')\n",
        "    axes[2].set_ylabel('MAE')\n",
        "    axes[2].set_xlabel('Epoch')\n",
        "    axes[2].legend(['Train', 'Validation'], loc='upper left')\n",
        "\n",
        "    plt.suptitle(title)\n",
        "    plt.show()\n",
        "\n",
        "# Plot the training history\n",
        "plot_training_history(history, 'Multi-Task Model Training History')"
      ]
    },
    {
      "cell_type": "code",
      "execution_count": null,
      "id": "94156b43-e4a4-4759-840e-f82c465c849a",
      "metadata": {
        "ExecuteTime": {
          "end_time": "2023-09-11T11:51:26.985346+00:00",
          "start_time": "2023-09-11T11:51:26.424692+00:00"
        },
        "noteable": {
          "cell_type": "code",
          "output_collection_id": "a60e17aa-9c0b-4afd-91e6-d26b91ce4104"
        },
        "id": "94156b43-e4a4-4759-840e-f82c465c849a"
      },
      "outputs": [],
      "source": [
        "# Modify the function to include accuracy figures in the plot title\n",
        "def plot_training_history_with_figures(history, title):\n",
        "    fig, axes = plt.subplots(1, 3, figsize=(20, 5))\n",
        "\n",
        "    # Gender\n",
        "    final_gender_train_acc = history.history['gender_output_accuracy'][-1]\n",
        "    final_gender_val_acc = history.history['val_gender_output_accuracy'][-1]\n",
        "    axes[0].plot(history.history['gender_output_accuracy'])\n",
        "    axes[0].plot(history.history['val_gender_output_accuracy'])\n",
        "    axes[0].set_title(f'Gender Model Accuracy\\nTrain: {final_gender_train_acc:.4f}, Val: {final_gender_val_acc:.4f}')\n",
        "    axes[0].set_ylabel('Accuracy')\n",
        "    axes[0].set_xlabel('Epoch')\n",
        "    axes[0].legend(['Train', 'Validation'], loc='upper left')\n",
        "\n",
        "    # Race\n",
        "    final_race_train_acc = history.history['race_output_accuracy'][-1]\n",
        "    final_race_val_acc = history.history['val_race_output_accuracy'][-1]\n",
        "    axes[1].plot(history.history['race_output_accuracy'])\n",
        "    axes[1].plot(history.history['val_race_output_accuracy'])\n",
        "    axes[1].set_title(f'Race Model Accuracy\\nTrain: {final_race_train_acc:.4f}, Val: {final_race_val_acc:.4f}')\n",
        "    axes[1].set_ylabel('Accuracy')\n",
        "    axes[1].set_xlabel('Epoch')\n",
        "    axes[1].legend(['Train', 'Validation'], loc='upper left')\n",
        "\n",
        "    # Age\n",
        "    final_age_train_mae = history.history['age_output_mae'][-1]\n",
        "    final_age_val_mae = history.history['val_age_output_mae'][-1]\n",
        "    axes[2].plot(history.history['age_output_mae'])\n",
        "    axes[2].plot(history.history['val_age_output_mae'])\n",
        "    axes[2].set_title(f'Age Model MAE\\nTrain: {final_age_train_mae:.4f}, Val: {final_age_val_mae:.4f}')\n",
        "    axes[2].set_ylabel('MAE')\n",
        "    axes[2].set_xlabel('Epoch')\n",
        "    axes[2].legend(['Train', 'Validation'], loc='upper left')\n",
        "\n",
        "    plt.suptitle(title)\n",
        "    plt.show()\n",
        "\n",
        "# Plot the training history with figures\n",
        "plot_training_history_with_figures(history, 'Multi-Task Model Training History with Figures')"
      ]
    },
    {
      "cell_type": "markdown",
      "id": "51e84c25-8316-4f32-a307-42feb3c92baf",
      "metadata": {
        "noteable": {
          "cell_type": "markdown"
        },
        "id": "51e84c25-8316-4f32-a307-42feb3c92baf"
      },
      "source": [
        "### Model Evaluation on Test Data\n",
        "\n",
        "\n",
        "We'll evaluate the model's performance on the test data to understand how well it generalizes to unseen data. The evaluation will provide us with loss and accuracy metrics for each task (gender, race, and age)."
      ]
    },
    {
      "cell_type": "code",
      "execution_count": null,
      "id": "4a831ad5-d108-4f3a-822c-329ab7ccf109",
      "metadata": {
        "ExecuteTime": {
          "end_time": "2023-09-11T11:53:43.181529+00:00",
          "start_time": "2023-09-11T11:53:42.626197+00:00"
        },
        "noteable": {
          "cell_type": "code",
          "output_collection_id": "5606c2d1-c9c5-44d5-95af-de8cba5e8f5e"
        },
        "id": "4a831ad5-d108-4f3a-822c-329ab7ccf109"
      },
      "outputs": [],
      "source": [
        "# Evaluate the model on the test data\n",
        "evaluation = model.evaluate(X_test_normalized, {'gender_output': y_gender_test, 'race_output': y_race_test, 'age_output': y_age_test}, verbose=0)\n",
        "\n",
        "# Display the evaluation results\n",
        "evaluation_metrics = dict(zip(model.metrics_names, evaluation))\n",
        "evaluation_metrics"
      ]
    },
    {
      "cell_type": "markdown",
      "id": "30feaee2-494a-4ce0-a18e-650a7865a7e8",
      "metadata": {
        "noteable": {
          "cell_type": "markdown"
        },
        "id": "30feaee2-494a-4ce0-a18e-650a7865a7e8"
      },
      "source": [
        "### Model Evaluation Results on Test Data\n",
        "\n",
        "\n",
        "**Gender Prediction**:\n",
        "\n",
        "- Loss: 0.6902\n",
        "\n",
        "- Accuracy: 54.00%\n",
        "\n",
        "\n",
        "**Race Prediction**:\n",
        "\n",
        "- Loss: 1.2067\n",
        "\n",
        "- Accuracy: 71.33%\n",
        "\n",
        "\n",
        "**Age Prediction**:\n",
        "\n",
        "- Loss (Mean Squared Error): 173.1910\n",
        "\n",
        "- Mean Absolute Error (MAE): 5.2471 (approx. 5.25 years)"
      ]
    },
    {
      "cell_type": "markdown",
      "id": "acadcaaf-b194-414e-a3f0-e6ee7d6d5f39",
      "metadata": {
        "noteable": {
          "cell_type": "markdown"
        },
        "id": "acadcaaf-b194-414e-a3f0-e6ee7d6d5f39"
      },
      "source": [
        "### Hyperparameter Tuning\n",
        "\n",
        "\n",
        "To optimize our model's performance, we'll perform hyperparameter tuning using `RandomizedSearchCV`. First, we'll wrap our Keras model for use with Scikit-learn, then define the hyperparameter space, and finally apply the search."
      ]
    },
    {
      "cell_type": "code",
      "execution_count": null,
      "id": "468a9745-20d9-452a-bca4-09975d7838a8",
      "metadata": {
        "ExecuteTime": {
          "end_time": "2023-09-11T12:12:16.071863+00:00",
          "start_time": "2023-09-11T12:12:15.892181+00:00"
        },
        "noteable": {
          "cell_type": "code",
          "output_collection_id": "51a20e70-d674-4f2a-8b7d-ef75cfbc1752"
        },
        "id": "468a9745-20d9-452a-bca4-09975d7838a8"
      },
      "outputs": [],
      "source": [
        "from tensorflow.keras.wrappers.scikit_learn import KerasClassifier\n",
        "from sklearn.model_selection import RandomizedSearchCV\n",
        "from tensorflow.keras.optimizers import Adam\n",
        "\n",
        "# Function to create the Keras model\n",
        "def create_model(learning_rate=0.001, dropout_rate=0.0):\n",
        "    model = create_mtcnn_model()\n",
        "    optimizer = Adam(learning_rate=learning_rate)\n",
        "    model.compile(optimizer=optimizer, loss={'gender_output': 'binary_crossentropy',\n",
        "                                             'race_output': 'categorical_crossentropy',\n",
        "                                             'age_output': 'mse'},\n",
        "                  metrics={'gender_output': 'accuracy',\n",
        "                          'race_output': 'accuracy',\n",
        "                          'age_output': 'mae'})\n",
        "    return model\n",
        "\n",
        "# Wrap the model with KerasClassifier\n",
        "model = KerasClassifier(build_fn=create_model, epochs=10, batch_size=32, verbose=0)\n",
        "\n",
        "# Define the hyperparameter space\n",
        "param_dist = {\n",
        "    'learning_rate': [0.001, 0.01, 0.1],\n",
        "    'dropout_rate': [0.0, 0.1, 0.2, 0.3],\n",
        "    'batch_size': [16, 32, 64],\n",
        "    'epochs': [10, 20, 30]\n",
        "}\n",
        "\n",
        "# Use RandomizedSearchCV to search for best hyperparameters\n",
        "random_search = RandomizedSearchCV(estimator=model, param_distributions=param_dist, n_iter=5, cv=3, verbose=1, n_jobs=-1)\n",
        "\n",
        "# Fit the random search model\n",
        "random_search_result = random_search.fit(X_train_normalized, {'gender_output': y_gender_train, 'race_output': y_race_train, 'age_output': y_age_train})\n",
        "\n",
        "# Display the best hyperparameters\n",
        "best_params = random_search_result.best_params_\n",
        "best_params"
      ]
    },
    {
      "cell_type": "markdown",
      "id": "6a85bf64-0619-4912-bef3-67895a9c9edf",
      "metadata": {
        "noteable": {
          "cell_type": "markdown"
        },
        "id": "6a85bf64-0619-4912-bef3-67895a9c9edf"
      },
      "source": [
        "### Saving the Trained Model\n",
        "\n",
        "\n",
        "To deploy our model in a real-world application, we first need to save it. This will allow us to load the model later and use it for predictions without retraining."
      ]
    },
    {
      "cell_type": "code",
      "execution_count": null,
      "id": "c3c4a239-65f1-4a7b-bab6-855449f3f06a",
      "metadata": {
        "ExecuteTime": {
          "end_time": "2023-09-11T12:21:29.320840+00:00",
          "start_time": "2023-09-11T12:21:29.125413+00:00"
        },
        "noteable": {
          "cell_type": "code",
          "output_collection_id": "65e93e5f-edd7-4179-81b7-d02d4a36fdee"
        },
        "id": "c3c4a239-65f1-4a7b-bab6-855449f3f06a"
      },
      "outputs": [],
      "source": [
        "# Save the model to a .h5 file\n",
        "model_path = 'mtcnn_model.h5'\n",
        "model.save(model_path)\n",
        "\n",
        "# Display the path to the saved model\n",
        "model_path"
      ]
    }
  ],
  "metadata": {
    "kernel_info": {
      "name": "python3"
    },
    "kernelspec": {
      "display_name": "Python 3 (ipykernel)",
      "language": "python",
      "name": "python3"
    },
    "language_info": {
      "codemirror_mode": {
        "name": "ipython",
        "version": 3
      },
      "file_extension": ".py",
      "mimetype": "text/x-python",
      "name": "python",
      "nbconvert_exporter": "python",
      "pygments_lexer": "ipython3",
      "version": "3.9.12"
    },
    "noteable-chatgpt": {
      "create_notebook": {
        "openai_conversation_id": "d4bc256a-2cd8-5e7c-8e19-7f81156755d9",
        "openai_ephemeral_user_id": "4151a21b-89f1-59bf-bb53-d9d13ed71dfe",
        "openai_subdivision1_iso_code": "NG-FC"
      }
    },
    "selected_hardware_size": "small",
    "colab": {
      "provenance": [],
      "include_colab_link": true
    }
  },
  "nbformat": 4,
  "nbformat_minor": 5
}